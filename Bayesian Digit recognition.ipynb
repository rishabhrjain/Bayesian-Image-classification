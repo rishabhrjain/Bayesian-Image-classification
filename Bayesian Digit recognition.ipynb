{
 "cells": [
  {
   "cell_type": "markdown",
   "metadata": {},
   "source": [
    "### GOAL:\n",
    "THe goal of this project is to classify digits by finding statistical features like mean, variance and then using Bayesian posterior probabilities to arrive at a decision. "
   ]
  },
  {
   "cell_type": "code",
   "execution_count": 62,
   "metadata": {},
   "outputs": [],
   "source": [
    "import scipy.io\n",
    "import numpy as np\n",
    "import matplotlib.pyplot as plt"
   ]
  },
  {
   "cell_type": "code",
   "execution_count": 2,
   "metadata": {},
   "outputs": [],
   "source": [
    "train_data = scipy.io.loadmat('./data/train_data.mat')\n",
    "test_data = scipy.io.loadmat('./data/test_data.mat')"
   ]
  },
  {
   "cell_type": "code",
   "execution_count": 66,
   "metadata": {},
   "outputs": [],
   "source": [
    "images = train_data['data']\n",
    "train_label = train_data['label'][0]\n",
    "\n",
    "test_images = test_data['data']\n",
    "test_label = test_data['label'][0]"
   ]
  },
  {
   "cell_type": "markdown",
   "metadata": {},
   "source": [
    "#### Plot and image and compare its true label"
   ]
  },
  {
   "cell_type": "code",
   "execution_count": 64,
   "metadata": {},
   "outputs": [
    {
     "name": "stdout",
     "output_type": "stream",
     "text": [
      "The first image is  3\n"
     ]
    }
   ],
   "source": [
    "print(\"The first image is \", train_label[0])"
   ]
  },
  {
   "cell_type": "code",
   "execution_count": 65,
   "metadata": {},
   "outputs": [
    {
     "data": {
      "text/plain": [
       "<matplotlib.image.AxesImage at 0x1f0c3da3c88>"
      ]
     },
     "execution_count": 65,
     "metadata": {},
     "output_type": "execute_result"
    },
    {
     "data": {
      "image/png": "[encoded data removed]",
      "text/plain": [
       "<Figure size 432x288 with 1 Axes>"
      ]
     },
     "metadata": {
      "needs_background": "light"
     },
     "output_type": "display_data"
    }
   ],
   "source": [
    "plt.imshow(images[0], cmap='gray')"
   ]
  },
  {
   "cell_type": "markdown",
   "metadata": {},
   "source": [
    "###  1. Data Transformation\n",
    "Each image is a 28X28 matrix containing hand written digits. We have to follow two steps to extract features of an image. \n",
    "\n",
    "Step 1: Feature extraction\n",
    "Each image is stored as a 28x28 array of pixels. For each image i, compute two features: the mean mi and the standard deviation si of the 784 pixels\n",
    "so each image i is now [mi, si] which are two features of the image\n",
    "\n",
    "Step 2: Normalize the features\n",
    "\n",
    "Using training dataset, for every feature calculated in previous step, we find M1, S1 which are mean and standard deviation for first feature. Similarly we calculate M2, S2. \n",
    "\n",
    "For every image i, \n",
    "Yi = [y1i, y2i] = [(mi – M1)/S1, (si – M2)/S2]t\n"
   ]
  },
  {
   "cell_type": "markdown",
   "metadata": {},
   "source": [
    "#### Step 1: Feature extraction"
   ]
  },
  {
   "cell_type": "code",
   "execution_count": 8,
   "metadata": {},
   "outputs": [
    {
     "name": "stdout",
     "output_type": "stream",
     "text": [
      "train X is  (11548, 2)\n"
     ]
    }
   ],
   "source": [
    "X = np.zeros(shape = (len(images), 2))\n",
    "print(\"train X is \", X.shape)\n",
    "for index, image in enumerate(images):\n",
    "    image_mean = image.mean()\n",
    "    image_std = image.std()\n",
    "    Xi = np.array([image_mean, image_std])\n",
    "    X[index] = Xi"
   ]
  },
  {
   "cell_type": "code",
   "execution_count": 9,
   "metadata": {},
   "outputs": [
    {
     "name": "stdout",
     "output_type": "stream",
     "text": [
      "test_X is  (2886, 2)\n"
     ]
    }
   ],
   "source": [
    "test_X = np.zeros(shape = (len(test_images), 2))\n",
    "print(\"test_X is \", test_X.shape)\n",
    "\n",
    "# take all test images and compress them into their mean and std\n",
    "for index, image in enumerate(test_images):\n",
    "    image_mean = image.mean()\n",
    "    image_std = image.std()\n",
    "    Xi = np.array([image_mean, image_std])\n",
    "    test_X[index] = Xi"
   ]
  },
  {
   "cell_type": "markdown",
   "metadata": {},
   "source": [
    "#### Step 2: Feature normalization"
   ]
  },
  {
   "cell_type": "code",
   "execution_count": 11,
   "metadata": {},
   "outputs": [
    {
     "data": {
      "text/plain": [
       "(32.504351071481686, 76.44042397326838)"
      ]
     },
     "execution_count": 11,
     "metadata": {},
     "output_type": "execute_result"
    }
   ],
   "source": [
    "[M1, M2] = X.mean(axis=0)\n",
    "M1, M2"
   ]
  },
  {
   "cell_type": "code",
   "execution_count": 12,
   "metadata": {},
   "outputs": [
    {
     "data": {
      "text/plain": [
       "(9.349449452973955, 10.509725393032221)"
      ]
     },
     "execution_count": 12,
     "metadata": {},
     "output_type": "execute_result"
    }
   ],
   "source": [
    "[S1, S2] = X.std(axis = 0)\n",
    "S1, S2"
   ]
  },
  {
   "cell_type": "code",
   "execution_count": 13,
   "metadata": {},
   "outputs": [],
   "source": [
    "#normalize X which is train features\n",
    "X_normalize = np.zeros(shape = (len(images), 2))\n",
    "\n",
    "for index, Xi in enumerate(X):\n",
    "    x1 = (Xi[0] - M1)/S1\n",
    "    x2 = (Xi[1] - M2)/S2\n",
    "    X_normalize_i = np.array([x1, x2])\n",
    "    X_normalize[index] = X_normalize_i"
   ]
  },
  {
   "cell_type": "code",
   "execution_count": 15,
   "metadata": {},
   "outputs": [],
   "source": [
    "# normalize test images using M1, S1 and M2, S2 calculated using training data\n",
    "\n",
    "X_test_normalize = np.zeros(shape = (len(test_images), 2))\n",
    "\n",
    "for index, Xi in enumerate(test_X):\n",
    "    x1 = (Xi[0] - M1)/S1\n",
    "    x2 = (Xi[1] - M2)/S2\n",
    "    X_test_normalize_i = np.array([x1, x2])\n",
    "    X_test_normalize[index] = X_test_normalize_i"
   ]
  },
  {
   "cell_type": "markdown",
   "metadata": {},
   "source": [
    "###  2. Density estimation\n",
    "\n",
    "We assume that the 2-d feature space of X_normalize defined above, samples from each class follow a normal distribution. Using the maximum likelihood estimation method, we estimate the parameters for the 2-d normal distribution for each class/digit, using the respective training data for that class/digit.\n",
    "\n",
    "A normal distribution is defined by 2 parameters - mean and variance. We need to calculate co-variance matrix if number of features >=2. "
   ]
  },
  {
   "cell_type": "code",
   "execution_count": 16,
   "metadata": {},
   "outputs": [],
   "source": [
    "X_normalize = X_normalize.tolist()"
   ]
  },
  {
   "cell_type": "code",
   "execution_count": 17,
   "metadata": {},
   "outputs": [],
   "source": [
    "X_digit3, X_digit7 = [], []\n",
    "\n",
    "for X_i, digit in zip(X_normalize, train_label):\n",
    "    \n",
    "    if(digit == 3):\n",
    "        X_digit3.append(X_i)\n",
    "    else:\n",
    "        X_digit7.append(X_i)\n",
    "        \n"
   ]
  },
  {
   "cell_type": "code",
   "execution_count": 18,
   "metadata": {},
   "outputs": [],
   "source": [
    "X_digit3 = np.array(X_digit3)\n",
    "X_digit7 = np.array(X_digit7)"
   ]
  },
  {
   "cell_type": "code",
   "execution_count": 24,
   "metadata": {},
   "outputs": [
    {
     "name": "stdout",
     "output_type": "stream",
     "text": [
      "Mean: [0.37687996 0.31851855], Variance: [1.0491056  0.96037982], Co-variance: [[1.04928927 0.98734647]\n",
      " [0.98734647 0.96054796]]\n"
     ]
    }
   ],
   "source": [
    "mean3, var3, cov3 = X_digit3.mean(axis=0), X_digit3.var(axis=0), np.cov(X_digit3[:, 0], X_digit3[:, 1])\n",
    "print(f\"Mean: {mean3}, Variance: {var3}, Co-variance: {cov3}\")"
   ]
  },
  {
   "cell_type": "code",
   "execution_count": 29,
   "metadata": {},
   "outputs": [
    {
     "name": "stdout",
     "output_type": "stream",
     "text": [
      "Mean: [-0.36900004 -0.31185886], Variance: [0.67669136 0.842203  ], Co-variance: [[0.67680735 0.74448378]\n",
      " [0.74448378 0.84234736]]\n"
     ]
    }
   ],
   "source": [
    "mean7, var7, cov7 = X_digit7.mean(axis=0), X_digit7.var(axis=0), np.cov(X_digit7[:, 0], X_digit7[:, 1])\n",
    "print(f\"Mean: {mean7}, Variance: {var7}, Co-variance: {cov7}\")"
   ]
  },
  {
   "cell_type": "markdown",
   "metadata": {},
   "source": [
    "### 3. Bayesian Decision Theory for optimal classification \n",
    "Now we know what are the distributions of features when image is digit 3 and digit 7. For any new image, we can calculate likelihood (using multivariate density equation) using parameters estimated on training data\n"
   ]
  },
  {
   "cell_type": "code",
   "execution_count": 45,
   "metadata": {},
   "outputs": [],
   "source": [
    "X = np.array(X_normalize)\n",
    "X = X.reshape((-1, 2, 1))\n",
    "\n",
    "test_X = np.array(X_test_normalize)\n",
    "test_X = test_X.reshape((-1, 2, 1))"
   ]
  },
  {
   "cell_type": "code",
   "execution_count": 31,
   "metadata": {},
   "outputs": [
    {
     "data": {
      "text/plain": [
       "array([[0.15069489],\n",
       "       [0.12996069]])"
      ]
     },
     "execution_count": 31,
     "metadata": {},
     "output_type": "execute_result"
    }
   ],
   "source": [
    "x = X[0]\n",
    "x"
   ]
  },
  {
   "cell_type": "code",
   "execution_count": 32,
   "metadata": {},
   "outputs": [],
   "source": [
    "# Reshaping matrices and calculating values for the equation of multivariate density\n",
    "mean3 = mean3.reshape((2,1))\n",
    "cov_inverse3 = np.linalg.inv(cov3)\n",
    "determinant3 = np.linalg.det(cov3)"
   ]
  },
  {
   "cell_type": "code",
   "execution_count": 33,
   "metadata": {},
   "outputs": [],
   "source": [
    "mean7 = mean7.reshape((2,1))\n",
    "cov_inverse7 = np.linalg.inv(cov7)\n",
    "determinant7 = np.linalg.det(cov7)"
   ]
  },
  {
   "cell_type": "code",
   "execution_count": 35,
   "metadata": {},
   "outputs": [],
   "source": [
    "# P(x/digit) - based on formula for multivariate normal distribution\n",
    "def likelihood_prob(x, mean, cov_inverse, determinant):\n",
    "    temp = np.matmul(((x - mean).T), cov_inverse)\n",
    "\n",
    "    power = (-1/2) * np.matmul(temp, (x-mean))\n",
    "    power = power[0][0]\n",
    "\n",
    "    exp = np.exp(power)\n",
    "    prob = exp/(2*3.142*np.sqrt(determinant))\n",
    "    return prob"
   ]
  },
  {
   "cell_type": "code",
   "execution_count": 43,
   "metadata": {},
   "outputs": [
    {
     "data": {
      "text/plain": [
       "(11548, 2)"
      ]
     },
     "execution_count": 43,
     "metadata": {},
     "output_type": "execute_result"
    }
   ],
   "source": [
    "X_normalize = np.array(X_normalize)\n",
    "X_normalize.shape"
   ]
  },
  {
   "cell_type": "markdown",
   "metadata": {},
   "source": [
    "### 4.  Training and testing error. \n",
    "\n",
    "Let's assume priors of both digits 3 and 7 are equal. \n",
    "since priors of both digits are equal, probability of digit given an image just depends on likelihood (using bayes theorem). \n",
    "\n",
    "We compare the results with the true label and add the probabilty of the incorrect correct class as the error. Its different when compared to accuracy. \n",
    "\n",
    "For example, if the true label is digit 3. Let's say model A predicts P(digit=3/X) = 0.8 and model B predicts P(digit=3/X) = 0.6. Here model B will be penalized more even though we will classify the digit as 3 i.e the model with less confidence will be penalized more. "
   ]
  },
  {
   "cell_type": "markdown",
   "metadata": {},
   "source": [
    "#### Error on training data"
   ]
  },
  {
   "cell_type": "code",
   "execution_count": 50,
   "metadata": {},
   "outputs": [],
   "source": [
    "train_error = []\n",
    "p_3, p_7 = 0.5, 0.5\n",
    "\n",
    "# for every image of training data \n",
    "for x, digit in zip(X, train_label):\n",
    "    likelihood_3 = likelihood_prob(x, mean3, cov_inverse3, determinant3 )\n",
    "    likelihood_7 = likelihood_prob(x, mean7, cov_inverse7, determinant7 )\n",
    "    \n",
    "    \n",
    "    if(digit == 3):\n",
    "        train_error.append((likelihood_7 * p_7))\n",
    "    else:\n",
    "        train_error.append((likelihood_3 * p_3))    "
   ]
  },
  {
   "cell_type": "code",
   "execution_count": 47,
   "metadata": {},
   "outputs": [
    {
     "name": "stdout",
     "output_type": "stream",
     "text": [
      "training error prob:  0.21295144830184592\n"
     ]
    }
   ],
   "source": [
    "print(\"training error prob: \", sum(train_error)/len(train_error))"
   ]
  },
  {
   "cell_type": "markdown",
   "metadata": {},
   "source": [
    "#### Error on Testing data"
   ]
  },
  {
   "cell_type": "code",
   "execution_count": 49,
   "metadata": {},
   "outputs": [
    {
     "name": "stdout",
     "output_type": "stream",
     "text": [
      " Testing error prob:  0.20582431069013368\n"
     ]
    }
   ],
   "source": [
    "test_error = []\n",
    "p_3, p_7 = 0.5, 0.5\n",
    "\n",
    "for x, digit in zip(test_X, test_label):\n",
    "    likelihood_3 = likelihood_prob(x, mean3, cov_inverse3, determinant3 )\n",
    "    likelihood_7 = likelihood_prob(x, mean7, cov_inverse7, determinant7 )\n",
    "    \n",
    "    if(digit == 3):\n",
    "        test_error.append(likelihood_7 * p_7)\n",
    "    else:\n",
    "        test_error.append(likelihood_3 * p_3)\n",
    "        \n",
    "    \n",
    "print(\" Testing error prob: \", sum(test_error)/len(test_error))"
   ]
  },
  {
   "cell_type": "markdown",
   "metadata": {},
   "source": [
    "### 5. Accuracy\n",
    "The accuracy of model is basically the percentage of digits that the model classified right. In this case since priors of digits 3 and 7 are equal i.e P(digit=3) = P(digit=7). \n",
    "so if likelihood(3) > likelihood(7), we classify as 3 else 7. "
   ]
  },
  {
   "cell_type": "code",
   "execution_count": 56,
   "metadata": {},
   "outputs": [
    {
     "name": "stdout",
     "output_type": "stream",
     "text": [
      "Training accuracy:  0.7496536196744025\n"
     ]
    }
   ],
   "source": [
    "# Accuracy on training data\n",
    "correctly_classified = 0\n",
    "p_3, p_7 = 0.5, 0.5\n",
    "\n",
    "# for every image of training data \n",
    "for x, digit in zip(X, train_label):\n",
    "    likelihood_3 = likelihood_prob(x, mean3, cov_inverse3, determinant3 )\n",
    "    likelihood_7 = likelihood_prob(x, mean7, cov_inverse7, determinant7 )\n",
    "    \n",
    "    \n",
    "    if(likelihood_3 > likelihood_7 and digit ==3):\n",
    "        correctly_classified += 1\n",
    "    elif(digit == 7):\n",
    "        correctly_classified += 1   \n",
    "\n",
    "print(\"Training accuracy: \",correctly_classified/len(train_label))"
   ]
  },
  {
   "cell_type": "code",
   "execution_count": 57,
   "metadata": {},
   "outputs": [
    {
     "name": "stdout",
     "output_type": "stream",
     "text": [
      " Testing accuracy:  0.762993762993763\n"
     ]
    }
   ],
   "source": [
    "correctly_classified = 0\n",
    "p_3, p_7 = 0.5, 0.5\n",
    "\n",
    "for x, digit in zip(test_X, test_label):\n",
    "    likelihood_3 = likelihood_prob(x, mean3, cov_inverse3, determinant3 )\n",
    "    likelihood_7 = likelihood_prob(x, mean7, cov_inverse7, determinant7 )\n",
    "    \n",
    "    if(likelihood_3 > likelihood_7 and digit == 3):\n",
    "        correctly_classified += 1\n",
    "    elif(digit == 7):\n",
    "        correctly_classified += 1\n",
    "        \n",
    "    \n",
    "print(\" Testing accuracy: \", correctly_classified/len(test_label))"
   ]
  },
  {
   "cell_type": "markdown",
   "metadata": {},
   "source": [
    "#### As wee see, by just extracting two features out of an image, mean and standard deviation, I get a testing accuracy of 76% with almost equally balanced dataset."
   ]
  },
  {
   "cell_type": "code",
   "execution_count": null,
   "metadata": {},
   "outputs": [],
   "source": []
  }
 ],
 "metadata": {
  "kernelspec": {
   "display_name": "Python 3",
   "language": "python",
   "name": "python3"
  },
  "language_info": {
   "codemirror_mode": {
    "name": "ipython",
    "version": 3
   },
   "file_extension": ".py",
   "mimetype": "text/x-python",
   "name": "python",
   "nbconvert_exporter": "python",
   "pygments_lexer": "ipython3",
   "version": "3.7.4"
  }
 },
 "nbformat": 4,
 "nbformat_minor": 2
}
